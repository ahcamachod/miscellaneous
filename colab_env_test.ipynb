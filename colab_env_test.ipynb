{
  "nbformat": 4,
  "nbformat_minor": 0,
  "metadata": {
    "colab": {
      "name": "colab-env-testbed.ipynb",
      "provenance": [],
      "collapsed_sections": [],
      "include_colab_link": true
    },
    "kernelspec": {
      "name": "python3",
      "display_name": "Python 3"
    }
  },
  "cells": [
    {
      "cell_type": "markdown",
      "metadata": {
        "id": "view-in-github",
        "colab_type": "text"
      },
      "source": [
        "<a href=\"https://colab.research.google.com/github/ahcamachod/miscellaneous/blob/main/colab_env_test.ipynb\" target=\"_parent\"><img src=\"https://colab.research.google.com/assets/colab-badge.svg\" alt=\"Open In Colab\"/></a>"
      ]
    },
    {
      "cell_type": "markdown",
      "metadata": {
        "id": "RJ5C06-NBAsl"
      },
      "source": [
        "colab-env-testbed\n",
        "===============\n",
        "\n",
        "A simply jupyter notebook for verifying that the `colab-env` module works as intended in the real world!\n",
        "\n",
        "First you'll have to install the latest version of the library on [PyPI](https://pypi.org/project/colab-env/) using `pip`."
      ]
    },
    {
      "cell_type": "code",
      "metadata": {
        "id": "af0tV4N-bvOn",
        "outputId": "f3f18781-4e96-4104-b4b5-1a777e730725",
        "colab": {
          "base_uri": "https://localhost:8080/",
          "height": 51
        }
      },
      "source": [
        "!pip install colab-env --upgrade"
      ],
      "execution_count": null,
      "outputs": [
        {
          "output_type": "stream",
          "text": [
            "Requirement already up-to-date: colab-env in /usr/local/lib/python3.6/dist-packages (0.1.2)\n",
            "Requirement already satisfied, skipping upgrade: python-dotenv<1.0,>=0.10.0 in /usr/local/lib/python3.6/dist-packages (from colab-env) (0.10.3)\n"
          ],
          "name": "stdout"
        }
      ]
    },
    {
      "cell_type": "markdown",
      "metadata": {
        "id": "2rz2V-k1BZY9"
      },
      "source": [
        "Importing the library should set everything up. If your Google Drive isn't already mounted, you'll have to complete an authentication flow. Otherwise it'll probably warn you that the drive is already mounted."
      ]
    },
    {
      "cell_type": "code",
      "metadata": {
        "id": "Mm9p3WIUeDJC"
      },
      "source": [
        "import colab_env"
      ],
      "execution_count": null,
      "outputs": []
    },
    {
      "cell_type": "markdown",
      "metadata": {
        "id": "UiPdJFlsBmMP"
      },
      "source": [
        "The `import` statement ought to have loaded everything in `colab_env/__init__.py`. This includes an instance of the environment variable handler class, which will be named `colab_env.envvar_handler`. Note that this can be reloaded using `colab_env.RELOAD()`.\n",
        "\n",
        "If you don't have `vars.env` in your Google Drive, it will be created at this point (with `COLAB_ENV = Active` set). Otherwise, the variables will be loaded into the environment.\n",
        "\n",
        "If all has gone to plan we ought to be able to access the module's `__version__`:"
      ]
    },
    {
      "cell_type": "code",
      "metadata": {
        "id": "6SFtdg2q5LCF",
        "outputId": "155c4f69-15d6-483f-c240-0c8886275a0f",
        "colab": {
          "base_uri": "https://localhost:8080/",
          "height": 34
        }
      },
      "source": [
        "colab_env.__version__"
      ],
      "execution_count": null,
      "outputs": [
        {
          "output_type": "execute_result",
          "data": {
            "text/plain": [
              "'0.1.1'"
            ]
          },
          "metadata": {
            "tags": []
          },
          "execution_count": 81
        }
      ]
    },
    {
      "cell_type": "markdown",
      "metadata": {
        "id": "b2KVVjAACUl-"
      },
      "source": [
        "... and take a look inside the `vars.env` file that either already existed or else was created."
      ]
    },
    {
      "cell_type": "code",
      "metadata": {
        "id": "0Z0ssUvVvdE9",
        "outputId": "0098c41d-67bc-4db9-811c-68311da4d062",
        "colab": {
          "base_uri": "https://localhost:8080/",
          "height": 34
        }
      },
      "source": [
        "!more gdrive/My\\ Drive/vars.env"
      ],
      "execution_count": null,
      "outputs": [
        {
          "output_type": "stream",
          "text": [
            "COLAB_ENV = Active\n"
          ],
          "name": "stdout"
        }
      ]
    },
    {
      "cell_type": "markdown",
      "metadata": {
        "id": "RXNEQNfUCbvm"
      },
      "source": [
        "We can also use the handler to add or overwrite environment variables:"
      ]
    },
    {
      "cell_type": "code",
      "metadata": {
        "id": "U4Gipx9Ny0eH",
        "outputId": "89153ba0-9079-4aca-ab55-e2f4c073e3ca",
        "colab": {
          "base_uri": "https://localhost:8080/",
          "height": 51
        }
      },
      "source": [
        "colab_env.envvar_handler.add_env(\"TEST\", \"HELLO WORLD!\", overwrite=True)\n",
        "\n",
        "!more gdrive/My\\ Drive/vars.env"
      ],
      "execution_count": null,
      "outputs": [
        {
          "output_type": "stream",
          "text": [
            "COLAB_ENV = Active\n",
            "TEST = HELLO WORLD!\n"
          ],
          "name": "stdout"
        }
      ]
    },
    {
      "cell_type": "markdown",
      "metadata": {
        "id": "8IZBC8m2Cm-u"
      },
      "source": [
        "Let's check that this variable was also set in the Colab environment (not just in `vars.env`):"
      ]
    },
    {
      "cell_type": "code",
      "metadata": {
        "id": "4LMqPJ9i5OZo",
        "outputId": "4edaca74-295e-4bf1-e450-b3dccdeb2e5a",
        "colab": {
          "base_uri": "https://localhost:8080/",
          "height": 34
        }
      },
      "source": [
        "import os\n",
        "\n",
        "os.getenv(\"TEST\")"
      ],
      "execution_count": null,
      "outputs": [
        {
          "output_type": "execute_result",
          "data": {
            "text/plain": [
              "'HELLO WORLD!'"
            ]
          },
          "metadata": {
            "tags": []
          },
          "execution_count": 84
        }
      ]
    },
    {
      "cell_type": "markdown",
      "metadata": {
        "id": "8XbfU6tPC8rG"
      },
      "source": [
        "The default behaviour is to _not_ overwrite existing variables:"
      ]
    },
    {
      "cell_type": "code",
      "metadata": {
        "id": "ZyS_pS5L6Nkm",
        "colab": {
          "base_uri": "https://localhost:8080/",
          "height": 51
        },
        "outputId": "2c690a56-8cb9-4e10-be8d-aa9a008f4fbf"
      },
      "source": [
        "colab_env.envvar_handler.add_env(\"COLAB_ENV\", \"SuperActive\")\n",
        "\n",
        "!more gdrive/My\\ Drive/vars.env"
      ],
      "execution_count": null,
      "outputs": [
        {
          "output_type": "stream",
          "text": [
            "COLAB_ENV = Active\n",
            "TEST = HELLO WORLD!\n"
          ],
          "name": "stdout"
        }
      ]
    },
    {
      "cell_type": "code",
      "metadata": {
        "id": "ohCxLvVIA7P-",
        "outputId": "8d22cd49-3748-41f6-fa54-b1e2f9fb855b",
        "colab": {
          "base_uri": "https://localhost:8080/",
          "height": 34
        }
      },
      "source": [
        "os.getenv(\"COLAB_ENV\")"
      ],
      "execution_count": null,
      "outputs": [
        {
          "output_type": "execute_result",
          "data": {
            "text/plain": [
              "'Active'"
            ]
          },
          "metadata": {
            "tags": []
          },
          "execution_count": 86
        }
      ]
    },
    {
      "cell_type": "markdown",
      "metadata": {
        "id": "v4VE9tFmDFYv"
      },
      "source": [
        "The handler can also be used to delete environment variables:"
      ]
    },
    {
      "cell_type": "code",
      "metadata": {
        "id": "PgQHBQfJDMMb",
        "outputId": "a318ea93-c77a-4564-833f-de65c4fa21a0",
        "colab": {
          "base_uri": "https://localhost:8080/",
          "height": 34
        }
      },
      "source": [
        "colab_env.envvar_handler.del_env(\"TEST\")\n",
        "\n",
        "os.getenv(\"TEST\")"
      ],
      "execution_count": null,
      "outputs": [
        {
          "output_type": "execute_result",
          "data": {
            "text/plain": [
              "'HELLO WORLD!'"
            ]
          },
          "metadata": {
            "tags": []
          },
          "execution_count": 87
        }
      ]
    },
    {
      "cell_type": "markdown",
      "metadata": {
        "id": "a08n1l21EHlb"
      },
      "source": [
        "... and let's check it's also been deleted from the file:"
      ]
    },
    {
      "cell_type": "code",
      "metadata": {
        "id": "uLOMEAwzEG3s",
        "outputId": "b58744b2-59d5-4cc5-ec8a-f110ae37cedc",
        "colab": {
          "base_uri": "https://localhost:8080/",
          "height": 34
        }
      },
      "source": [
        "!more gdrive/My\\ Drive/vars.env"
      ],
      "execution_count": null,
      "outputs": [
        {
          "output_type": "stream",
          "text": [
            "COLAB_ENV = Active\n"
          ],
          "name": "stdout"
        }
      ]
    },
    {
      "cell_type": "markdown",
      "metadata": {
        "id": "JxtKm2yKER5I"
      },
      "source": [
        "And show off the `RELOAD` function to finish off:"
      ]
    },
    {
      "cell_type": "code",
      "metadata": {
        "id": "_D3PONuV_0P5",
        "outputId": "6348530f-45f3-48ca-8c4c-f638ab4a1a86",
        "colab": {
          "base_uri": "https://localhost:8080/",
          "height": 34
        }
      },
      "source": [
        "colab_env.RELOAD()"
      ],
      "execution_count": null,
      "outputs": [
        {
          "output_type": "stream",
          "text": [
            "Drive already mounted at /content/gdrive; to attempt to forcibly remount, call drive.mount(\"/content/gdrive\", force_remount=True).\n"
          ],
          "name": "stdout"
        }
      ]
    },
    {
      "cell_type": "markdown",
      "metadata": {
        "id": "DRUcpaU8FAKG"
      },
      "source": [
        "... and that's it!"
      ]
    }
  ]
}