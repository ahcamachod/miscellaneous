{
  "nbformat": 4,
  "nbformat_minor": 0,
  "metadata": {
    "colab": {
      "name": "Twitter API.ipynb",
      "provenance": [],
      "authorship_tag": "ABX9TyNF9LcTRyZOGQpDz7mNo+8O",
      "include_colab_link": true
    },
    "kernelspec": {
      "name": "python3",
      "display_name": "Python 3"
    },
    "language_info": {
      "name": "python"
    }
  },
  "cells": [
    {
      "cell_type": "markdown",
      "metadata": {
        "id": "view-in-github",
        "colab_type": "text"
      },
      "source": [
        "<a href=\"https://colab.research.google.com/github/ahcamachod/miscellaneous/blob/main/Twitter_API.ipynb\" target=\"_parent\"><img src=\"https://colab.research.google.com/assets/colab-badge.svg\" alt=\"Open In Colab\"/></a>"
      ]
    },
    {
      "cell_type": "code",
      "execution_count": 39,
      "metadata": {
        "id": "R9gn5inBmP06"
      },
      "outputs": [],
      "source": [
        "import tweepy as tw"
      ]
    },
    {
      "cell_type": "code",
      "source": [
        "api_key = \"GiiRxoHR3nLGc52YUNe4jHptT\"\n",
        "api_secret = \"mNaPW9P71tY9fZkckN7XQk9eP4pS2K8RwpCVDklMNnB9wWoJky\"\n",
        "access_token = \"777018151-Te9SNG6oQJWVGKx7UrnMlfeP1fcIqPrGbEFlewZf\"\n",
        "access_token_secret = \"8GOvBGtZT1Bop3tvKQRt0IlzrSPjMVjGYaPYRIYbkk9pG\""
      ],
      "metadata": {
        "id": "bwEnnHlvm2To"
      },
      "execution_count": 40,
      "outputs": []
    },
    {
      "cell_type": "code",
      "source": [
        "auth = tw.OAuthHandler(api_key, api_secret)"
      ],
      "metadata": {
        "id": "kW3OICFrnmrS"
      },
      "execution_count": 41,
      "outputs": []
    },
    {
      "cell_type": "code",
      "source": [
        "auth.set_access_token(access_token, access_token_secret)"
      ],
      "metadata": {
        "id": "ptPqEBgK0052"
      },
      "execution_count": 42,
      "outputs": []
    },
    {
      "cell_type": "code",
      "source": [
        "auth.access_token"
      ],
      "metadata": {
        "colab": {
          "base_uri": "https://localhost:8080/",
          "height": 35
        },
        "id": "z5Xmvs1X1Dkp",
        "outputId": "5a0b9197-cfec-46e8-bc3d-6bcf24f7112b"
      },
      "execution_count": 28,
      "outputs": [
        {
          "output_type": "execute_result",
          "data": {
            "application/vnd.google.colaboratory.intrinsic+json": {
              "type": "string"
            },
            "text/plain": [
              "'777018151-Te9SNG6oQJWVGKx7UrnMlfeP1fcIqPrGbEFlewZf'"
            ]
          },
          "metadata": {},
          "execution_count": 28
        }
      ]
    },
    {
      "cell_type": "code",
      "source": [
        "auth.access_token_secret"
      ],
      "metadata": {
        "colab": {
          "base_uri": "https://localhost:8080/",
          "height": 35
        },
        "id": "uJA3953g1JBB",
        "outputId": "41356ef3-2513-442b-d5b1-ca817621ad64"
      },
      "execution_count": 29,
      "outputs": [
        {
          "output_type": "execute_result",
          "data": {
            "application/vnd.google.colaboratory.intrinsic+json": {
              "type": "string"
            },
            "text/plain": [
              "'8GOvBGtZT1Bop3tvKQRt0IlzrSPjMVjGYaPYRIYbkk9pG'"
            ]
          },
          "metadata": {},
          "execution_count": 29
        }
      ]
    },
    {
      "cell_type": "code",
      "source": [
        "api = tw.API(auth_handler=auth)"
      ],
      "metadata": {
        "id": "GlH3GFI21O4F"
      },
      "execution_count": 43,
      "outputs": []
    },
    {
      "cell_type": "code",
      "source": [
        "tweet = api.update_status(\"Por su compromiso con los colombianos en el exterior #yoconfioenjohanna\")"
      ],
      "metadata": {
        "id": "BKD2_OYZ1w46"
      },
      "execution_count": 44,
      "outputs": []
    },
    {
      "cell_type": "code",
      "source": [
        "tweet._json"
      ],
      "metadata": {
        "colab": {
          "base_uri": "https://localhost:8080/"
        },
        "id": "EWr0aL1GuObk",
        "outputId": "73c3212f-0deb-4f56-e5e3-8c88c2886f3f"
      },
      "execution_count": 45,
      "outputs": [
        {
          "output_type": "execute_result",
          "data": {
            "text/plain": [
              "{'contributors': None,\n",
              " 'coordinates': None,\n",
              " 'created_at': 'Wed Jan 12 15:29:21 +0000 2022',\n",
              " 'entities': {'hashtags': [{'indices': [53, 71], 'text': 'yoconfioenjohanna'}],\n",
              "  'symbols': [],\n",
              "  'urls': [],\n",
              "  'user_mentions': []},\n",
              " 'favorite_count': 0,\n",
              " 'favorited': False,\n",
              " 'geo': None,\n",
              " 'id': 1481287188654473216,\n",
              " 'id_str': '1481287188654473216',\n",
              " 'in_reply_to_screen_name': None,\n",
              " 'in_reply_to_status_id': None,\n",
              " 'in_reply_to_status_id_str': None,\n",
              " 'in_reply_to_user_id': None,\n",
              " 'in_reply_to_user_id_str': None,\n",
              " 'is_quote_status': False,\n",
              " 'lang': 'es',\n",
              " 'place': None,\n",
              " 'retweet_count': 0,\n",
              " 'retweeted': False,\n",
              " 'source': '<a href=\"https://github.com/ahcamachod\" rel=\"nofollow\">tpa-ahcd</a>',\n",
              " 'text': 'Por su compromiso con los colombianos en el exterior #yoconfioenjohanna',\n",
              " 'truncated': False,\n",
              " 'user': {'contributors_enabled': False,\n",
              "  'created_at': 'Thu Aug 23 23:59:21 +0000 2012',\n",
              "  'default_profile': True,\n",
              "  'default_profile_image': False,\n",
              "  'description': '',\n",
              "  'entities': {'description': {'urls': []}},\n",
              "  'favourites_count': 5415,\n",
              "  'follow_request_sent': False,\n",
              "  'followers_count': 215,\n",
              "  'following': False,\n",
              "  'friends_count': 193,\n",
              "  'geo_enabled': True,\n",
              "  'has_extended_profile': True,\n",
              "  'id': 777018151,\n",
              "  'id_str': '777018151',\n",
              "  'is_translation_enabled': False,\n",
              "  'is_translator': False,\n",
              "  'lang': None,\n",
              "  'listed_count': 4,\n",
              "  'location': 'São Paulo',\n",
              "  'name': 'Alvaro Camacho',\n",
              "  'notifications': False,\n",
              "  'profile_background_color': 'C0DEED',\n",
              "  'profile_background_image_url': 'http://abs.twimg.com/images/themes/theme1/bg.png',\n",
              "  'profile_background_image_url_https': 'https://abs.twimg.com/images/themes/theme1/bg.png',\n",
              "  'profile_background_tile': False,\n",
              "  'profile_banner_url': 'https://pbs.twimg.com/profile_banners/777018151/1456172112',\n",
              "  'profile_image_url': 'http://pbs.twimg.com/profile_images/1008411347053367298/j_4MyUhZ_normal.jpg',\n",
              "  'profile_image_url_https': 'https://pbs.twimg.com/profile_images/1008411347053367298/j_4MyUhZ_normal.jpg',\n",
              "  'profile_link_color': '1DA1F2',\n",
              "  'profile_sidebar_border_color': 'C0DEED',\n",
              "  'profile_sidebar_fill_color': 'DDEEF6',\n",
              "  'profile_text_color': '333333',\n",
              "  'profile_use_background_image': True,\n",
              "  'protected': False,\n",
              "  'screen_name': 'ahcamachod',\n",
              "  'statuses_count': 5471,\n",
              "  'time_zone': None,\n",
              "  'translator_type': 'none',\n",
              "  'url': None,\n",
              "  'utc_offset': None,\n",
              "  'verified': False,\n",
              "  'withheld_in_countries': []}}"
            ]
          },
          "metadata": {},
          "execution_count": 45
        }
      ]
    },
    {
      "cell_type": "code",
      "source": [
        "trinos = tw.Cursor(api.search, q=\"messi\", since = '2022-01-01', lang='es').items(10)"
      ],
      "metadata": {
        "id": "8WIfvd8cEDsf"
      },
      "execution_count": 63,
      "outputs": []
    },
    {
      "cell_type": "code",
      "source": [
        "for trino in trinos:\n",
        "  print(trino.user.screen_name)\n",
        "  print(trino.user.location)\n",
        "  print(trino.text)\n",
        "  print('----------------')\n",
        "  print('\\n')\n"
      ],
      "metadata": {
        "colab": {
          "base_uri": "https://localhost:8080/"
        },
        "id": "PhkD4WvdFuo1",
        "outputId": "9d8b4c90-2bc4-4d0f-d716-546c6cd09a1d"
      },
      "execution_count": 64,
      "outputs": [
        {
          "output_type": "stream",
          "name": "stdout",
          "text": [
            "victoragsttt_\n",
            "Rio Comprido, Rio de Janeiro\n",
            "@CharlesPopov @Alanrodriguesr_ @FlaDaNacao_ @Flamengo @GiorgiandeA Maxi Biancuchi, O PRIMO DO MESSI, era do nado sincronizado\n",
            "----------------\n",
            "\n",
            "\n",
            "LuisMarceloRoj6\n",
            "\n",
            "Aquí está la familia Messi disfrutando de una vacaciones en Rosario.🤣🤣 https://t.co/bWCANprtb9\n",
            "----------------\n",
            "\n",
            "\n",
            "FreddySuqui\n",
            "Machala-Ecuador\n",
            "RT @Sempre_Cules: 🕐🔵🔴| Quedan 5 horas. \n",
            "\n",
            "El día que Leo Messi hizo bailar a todo el Real Madrid en unas semifinales de Champions. #ElClasic…\n",
            "----------------\n",
            "\n",
            "\n",
            "LM7ISTHEGOA7\n",
            "\n",
            "RT @MessiArena: Leo Messi - Copa del Rey Final 2015 \n",
            "\n",
            "𝗚𝗮𝗺𝗲 𝗰𝗵𝗮𝗻𝗴𝗲𝗿 ✨https://t.co/ibeke1OH1j\n",
            "----------------\n",
            "\n",
            "\n",
            "10Mauro10\n",
            "\n",
            "RT @SoyFan10: \"Cristiano Ronaldo es más rápido, más físico, más guapo y simplemente mejor que Lionel Messi.”\n",
            "\n",
            "–Kylian Mbappe en redes socia…\n",
            "----------------\n",
            "\n",
            "\n",
            "ErichReformed\n",
            "Up your ass\n",
            "1. Messi\n",
            "2. Ronaldo\n",
            "3. Maradona \n",
            "4. Pele\n",
            "5. Cruyff https://t.co/2tLTb3mkTc\n",
            "----------------\n",
            "\n",
            "\n",
            "mundomessista_\n",
            "\n",
            "Me da risa con tan solo pensar que algunos dicen que Messi jugó MAL este mundial.\n",
            "\n",
            "Este regate es una obra de arte,… https://t.co/cLnEJE0Eog\n",
            "----------------\n",
            "\n",
            "\n",
            "JeanCarlo2206\n",
            "\n",
            "@tdmas_cr Messi en las eliminaciones del Barcelona\n",
            "----------------\n",
            "\n",
            "\n",
            "jgddoufm\n",
            "Chile\n",
            "@EASPORTSEsp hombre messi, poco mas que decir\n",
            "----------------\n",
            "\n",
            "\n",
            "MadridReference\n",
            "\n",
            "📊 All-time top scorers in El Clásico:\n",
            "\n",
            "26 🇦🇷 Messi\n",
            "18 🇦🇷 Di Stéfano\n",
            "18 🇵🇹 Cristiano Ronaldo\n",
            "15 🇪🇸 César\n",
            "15 🇪🇸 Raúl… https://t.co/TBBE4Rj5ys\n",
            "----------------\n",
            "\n",
            "\n"
          ]
        }
      ]
    },
    {
      "cell_type": "code",
      "source": [
        "famosos = ['shakira', 'jlo', '10Ronaldinho', 'neymarjr', 'ivetesangalo','SofiaVergara', 'EugenioDerbez', 'thalia', 'lulopilato',\n",
        "           'diegotorres','montanertwiter','Cristiano','kaka','carlosvives','fonseca','francodevita','gabyespino','AlejandroSanz',\n",
        "           'jamesdrodriguez','davidbisbal','Anahi']"
      ],
      "metadata": {
        "id": "3MsStj4JGEzM"
      },
      "execution_count": 65,
      "outputs": []
    },
    {
      "cell_type": "code",
      "source": [
        "len(famosos)"
      ],
      "metadata": {
        "colab": {
          "base_uri": "https://localhost:8080/"
        },
        "id": "KAiOsW9RWHYg",
        "outputId": "8783c821-0234-4294-cbf7-8115c1724a6a"
      },
      "execution_count": 66,
      "outputs": [
        {
          "output_type": "execute_result",
          "data": {
            "text/plain": [
              "21"
            ]
          },
          "metadata": {},
          "execution_count": 66
        }
      ]
    },
    {
      "cell_type": "code",
      "source": [
        "for famoso in famosos:\n",
        "  trinos = tw.Cursor(api.search, q=famoso, since = '2021-12-28').items(20)\n",
        "  print(f'Autor: {famoso}','\\n','Imágenes publicadas: ')\n",
        "  for trino in trinos:\n",
        "    if 'media' in trino.entities:\n",
        "      print(trino.entities['media'][0]['media_url'])\n",
        "  print('-------------','\\n')"
      ],
      "metadata": {
        "colab": {
          "base_uri": "https://localhost:8080/"
        },
        "id": "ElTsvZnuWTTy",
        "outputId": "f75db7de-fd8c-47bd-8ae6-46bdd37ea5d7"
      },
      "execution_count": 70,
      "outputs": [
        {
          "output_type": "stream",
          "name": "stdout",
          "text": [
            "Autor: shakira \n",
            " Imágenes publicadas: \n",
            "------------- \n",
            "\n",
            "Autor: jlo \n",
            " Imágenes publicadas: \n",
            "http://pbs.twimg.com/ext_tw_video_thumb/1480370496520740864/pu/img/sUlJ-nhRtbq24m3k.jpg\n",
            "http://pbs.twimg.com/ext_tw_video_thumb/1480370496520740864/pu/img/sUlJ-nhRtbq24m3k.jpg\n",
            "http://pbs.twimg.com/ext_tw_video_thumb/1480370496520740864/pu/img/sUlJ-nhRtbq24m3k.jpg\n",
            "http://pbs.twimg.com/ext_tw_video_thumb/1480370496520740864/pu/img/sUlJ-nhRtbq24m3k.jpg\n",
            "http://pbs.twimg.com/ext_tw_video_thumb/1480370496520740864/pu/img/sUlJ-nhRtbq24m3k.jpg\n",
            "------------- \n",
            "\n",
            "Autor: 10Ronaldinho \n",
            " Imágenes publicadas: \n",
            "http://pbs.twimg.com/ext_tw_video_thumb/1477339008329945091/pu/img/h5lXLmgMkLyq5dx7.jpg\n",
            "http://pbs.twimg.com/media/FI6R8ivWUAwBMMm.jpg\n",
            "http://pbs.twimg.com/media/FI6R8ivWUAwBMMm.jpg\n",
            "http://pbs.twimg.com/media/FI6R8ivWUAwBMMm.jpg\n",
            "http://pbs.twimg.com/media/FI6R8ivWUAwBMMm.jpg\n",
            "http://pbs.twimg.com/media/FI6R8ivWUAwBMMm.jpg\n",
            "http://pbs.twimg.com/media/FI6R8ivWUAwBMMm.jpg\n",
            "------------- \n",
            "\n",
            "Autor: neymarjr \n",
            " Imágenes publicadas: \n",
            "------------- \n",
            "\n",
            "Autor: ivetesangalo \n",
            " Imágenes publicadas: \n",
            "http://pbs.twimg.com/media/FI23j-jWQAYgMQp.jpg\n",
            "http://pbs.twimg.com/media/FI2pPxuXoAItBLD.jpg\n",
            "http://pbs.twimg.com/media/FI62DOnXoAgdIAO.jpg\n",
            "http://pbs.twimg.com/media/FI611kSXEAs_fOD.jpg\n",
            "------------- \n",
            "\n",
            "Autor: SofiaVergara \n",
            " Imágenes publicadas: \n",
            "http://pbs.twimg.com/tweet_video_thumb/FI6kdhwXwAsC6S1.jpg\n",
            "------------- \n",
            "\n",
            "Autor: EugenioDerbez \n",
            " Imágenes publicadas: \n",
            "------------- \n",
            "\n",
            "Autor: thalia \n",
            " Imágenes publicadas: \n",
            "------------- \n",
            "\n",
            "Autor: lulopilato \n",
            " Imágenes publicadas: \n",
            "http://pbs.twimg.com/ext_tw_video_thumb/1481282388147777540/pu/img/AHbHr_H4mopDlKuk.jpg\n",
            "http://pbs.twimg.com/ext_tw_video_thumb/1481282388147777540/pu/img/AHbHr_H4mopDlKuk.jpg\n",
            "http://pbs.twimg.com/ext_tw_video_thumb/1481282388147777540/pu/img/AHbHr_H4mopDlKuk.jpg\n",
            "http://pbs.twimg.com/ext_tw_video_thumb/1481282388147777540/pu/img/AHbHr_H4mopDlKuk.jpg\n",
            "http://pbs.twimg.com/ext_tw_video_thumb/1481282388147777540/pu/img/AHbHr_H4mopDlKuk.jpg\n",
            "http://pbs.twimg.com/ext_tw_video_thumb/1481282388147777540/pu/img/AHbHr_H4mopDlKuk.jpg\n",
            "http://pbs.twimg.com/ext_tw_video_thumb/1481282388147777540/pu/img/AHbHr_H4mopDlKuk.jpg\n",
            "http://pbs.twimg.com/ext_tw_video_thumb/1481282388147777540/pu/img/AHbHr_H4mopDlKuk.jpg\n",
            "http://pbs.twimg.com/ext_tw_video_thumb/1481282388147777540/pu/img/AHbHr_H4mopDlKuk.jpg\n",
            "http://pbs.twimg.com/ext_tw_video_thumb/1481282388147777540/pu/img/AHbHr_H4mopDlKuk.jpg\n",
            "http://pbs.twimg.com/ext_tw_video_thumb/1481282388147777540/pu/img/AHbHr_H4mopDlKuk.jpg\n",
            "http://pbs.twimg.com/ext_tw_video_thumb/1481282388147777540/pu/img/AHbHr_H4mopDlKuk.jpg\n",
            "http://pbs.twimg.com/media/FIywz9OXIAkoOFP.jpg\n",
            "------------- \n",
            "\n",
            "Autor: diegotorres \n",
            " Imágenes publicadas: \n",
            "http://pbs.twimg.com/ext_tw_video_thumb/1481320268433965063/pu/img/HfuKQ4ZKyqA1_jGE.jpg\n",
            "http://pbs.twimg.com/media/FI2u1K5XwAAkFpM.jpg\n",
            "http://pbs.twimg.com/media/FIzqqnoWQAE9BXW.jpg\n",
            "http://pbs.twimg.com/media/FIyUX2PXMAEy6Rd.jpg\n",
            "http://pbs.twimg.com/tweet_video_thumb/FI6pSVGXIAkjAX-.jpg\n",
            "http://pbs.twimg.com/tweet_video_thumb/FI6lfOeX0AgCnB8.jpg\n",
            "http://pbs.twimg.com/tweet_video_thumb/FI6ca_xWUAE2-Qa.jpg\n",
            "------------- \n",
            "\n",
            "Autor: montanertwiter \n",
            " Imágenes publicadas: \n",
            "http://pbs.twimg.com/media/FI3mXEaWUAEoKkm.jpg\n",
            "http://pbs.twimg.com/media/FI3mXEaWUAEoKkm.jpg\n",
            "------------- \n",
            "\n",
            "Autor: Cristiano \n",
            " Imágenes publicadas: \n",
            "http://pbs.twimg.com/media/FI4h5jmXwAEnfU_.jpg\n",
            "http://pbs.twimg.com/media/FI57w1SWYAQFDRq.jpg\n",
            "http://pbs.twimg.com/media/FI57w1SWYAQFDRq.jpg\n",
            "http://pbs.twimg.com/media/FI6FymUXEAsQf0I.jpg\n",
            "http://pbs.twimg.com/media/FI0VbMWXEAEDxbv.jpg\n",
            "http://pbs.twimg.com/media/FI1hXsJXEAUB16r.jpg\n",
            "http://pbs.twimg.com/media/FI6NvUEXMAYsMH-.jpg\n",
            "http://pbs.twimg.com/media/FI39s8YX0AQNGa4.jpg\n",
            "------------- \n",
            "\n",
            "Autor: kaka \n",
            " Imágenes publicadas: \n",
            "http://pbs.twimg.com/media/FI66tPcXoAQW5E1.jpg\n",
            "------------- \n",
            "\n",
            "Autor: carlosvives \n",
            " Imágenes publicadas: \n",
            "------------- \n",
            "\n",
            "Autor: fonseca \n",
            " Imágenes publicadas: \n",
            "http://pbs.twimg.com/media/FI6reABX0AMW45F.jpg\n",
            "http://pbs.twimg.com/media/FI6reABX0AMW45F.jpg\n",
            "http://pbs.twimg.com/ext_tw_video_thumb/1480679570034548739/pu/img/0lMqrHba4gdkLItY.jpg\n",
            "http://pbs.twimg.com/media/FI6reABX0AMW45F.jpg\n",
            "http://pbs.twimg.com/media/FI6reABX0AMW45F.jpg\n",
            "http://pbs.twimg.com/media/FI132JvWUAAjYTn.jpg\n",
            "------------- \n",
            "\n",
            "Autor: francodevita \n",
            " Imágenes publicadas: \n",
            "http://pbs.twimg.com/ext_tw_video_thumb/1478872661413482496/pu/img/RstGHMGwcvoFYFYC.jpg\n",
            "http://pbs.twimg.com/ext_tw_video_thumb/1478872661413482496/pu/img/RstGHMGwcvoFYFYC.jpg\n",
            "http://pbs.twimg.com/ext_tw_video_thumb/1445858057456533510/pu/img/b_Axfs0AQ-14Kf5b.jpg\n",
            "http://pbs.twimg.com/ext_tw_video_thumb/1470920056980791296/pu/img/qC5zx6euIvOjSEdl.jpg\n",
            "http://pbs.twimg.com/ext_tw_video_thumb/1470920056980791296/pu/img/qC5zx6euIvOjSEdl.jpg\n",
            "------------- \n",
            "\n",
            "Autor: gabyespino \n",
            " Imágenes publicadas: \n",
            "http://pbs.twimg.com/ext_tw_video_thumb/1481146076421922816/pu/img/s9gRNp0h8JlXdfBI.jpg\n",
            "http://pbs.twimg.com/media/FI3aR7bXMAM_q__.jpg\n",
            "------------- \n",
            "\n",
            "Autor: AlejandroSanz \n",
            " Imágenes publicadas: \n",
            "http://pbs.twimg.com/media/FI2_VrkWQAk8JaY.jpg\n",
            "http://pbs.twimg.com/tweet_video_thumb/FI64GZzXoAASwpK.jpg\n",
            "http://pbs.twimg.com/media/FIwPxaEWUA4LBv_.jpg\n",
            "http://pbs.twimg.com/media/FI6TTnrXMAYmIKw.jpg\n",
            "http://pbs.twimg.com/tweet_video_thumb/FI62T3iX0AcJuSR.jpg\n",
            "------------- \n",
            "\n",
            "Autor: jamesdrodriguez \n",
            " Imágenes publicadas: \n",
            "http://pbs.twimg.com/media/FI6eQD3XsAQTWAF.jpg\n",
            "------------- \n",
            "\n",
            "Autor: davidbisbal \n",
            " Imágenes publicadas: \n",
            "------------- \n",
            "\n",
            "Autor: Anahi \n",
            " Imágenes publicadas: \n",
            "http://pbs.twimg.com/media/FI3KylYXMAEhitm.jpg\n",
            "http://pbs.twimg.com/ext_tw_video_thumb/1481320972296900611/pu/img/-504U71QnNFIywFy.jpg\n",
            "http://pbs.twimg.com/media/FI656vnWYAE_qQ5.png\n",
            "http://pbs.twimg.com/tweet_video_thumb/FIiSTKXXsAMwTnH.jpg\n",
            "http://pbs.twimg.com/tweet_video_thumb/FI653HHWQAA9qqe.jpg\n",
            "http://pbs.twimg.com/tweet_video_thumb/FI65rlVWYAEHT2d.jpg\n",
            "http://pbs.twimg.com/media/FI6BklmWQAY91GJ.jpg\n",
            "------------- \n",
            "\n"
          ]
        }
      ]
    },
    {
      "cell_type": "code",
      "source": [
        ""
      ],
      "metadata": {
        "id": "nTDr38iLYxsl"
      },
      "execution_count": null,
      "outputs": []
    }
  ]
}